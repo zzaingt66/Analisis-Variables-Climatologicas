{
 "cells": [
  {
   "cell_type": "markdown",
   "metadata": {},
   "source": [
    "# Analisis de las diferentes Vairables climatologicas en Cali desde 1990 a 2022"
   ]
  },
  {
   "cell_type": "code",
   "execution_count": null,
   "metadata": {},
   "outputs": [
    {
     "data": {
      "application/vnd.jupyter.widget-view+json": {
       "model_id": "ef17097acf4e49c4b923021842477749",
       "version_major": 2,
       "version_minor": 0
      },
      "text/plain": [
       "VBox(children=(Dropdown(description='Categoría:', index=5, layout=Layout(width='auto'), options=('Presión', 'T…"
      ]
     },
     "metadata": {},
     "output_type": "display_data"
    },
    {
     "data": {
      "application/vnd.plotly.v1+json": {
       "config": {
        "plotlyServerURL": "https://plot.ly"
       },
       "data": [
        {
         "hovertemplate": "Mes: %{x}<br>Valor: %{y:.2f}<br>Año: 1991<br><extra></extra>",
         "mode": "lines+markers",
         "name": "Año 1991",
         "type": "scatter",
         "x": [
          "JAN",
          "FEB",
          "MAR",
          "APR",
          "MAY",
          "JUN",
          "JUL",
          "AUG",
          "SEP",
          "OCT",
          "NOV",
          "DEC"
         ],
         "y": [
          0.22,
          0.22,
          0.2,
          0.2,
          0.16,
          0.2,
          0.25,
          0.23,
          0.21,
          0.2,
          0.22,
          0.23
         ]
        },
        {
         "hovertemplate": "Mes: %{x}<br>Valor: %{y:.2f}<br>Año: 1992<br><extra></extra>",
         "mode": "lines+markers",
         "name": "Año 1992",
         "type": "scatter",
         "x": [
          "JAN",
          "FEB",
          "MAR",
          "APR",
          "MAY",
          "JUN",
          "JUL",
          "AUG",
          "SEP",
          "OCT",
          "NOV",
          "DEC"
         ],
         "y": [
          0.27,
          0.24,
          0.25,
          0.23,
          0.2,
          0.18,
          0.2,
          0.19,
          0.24,
          0.28,
          0.27,
          0.31
         ]
        },
        {
         "hovertemplate": "Mes: %{x}<br>Valor: %{y:.2f}<br>Año: 1993<br><extra></extra>",
         "mode": "lines+markers",
         "name": "Año 1993",
         "type": "scatter",
         "x": [
          "JAN",
          "FEB",
          "MAR",
          "APR",
          "MAY",
          "JUN",
          "JUL",
          "AUG",
          "SEP",
          "OCT",
          "NOV",
          "DEC"
         ],
         "y": [
          0.3,
          0.21,
          0.25,
          0.25,
          0.25,
          0.21,
          0.22,
          0.21,
          0.23,
          0.22,
          0.23,
          0.28
         ]
        },
        {
         "hovertemplate": "Mes: %{x}<br>Valor: %{y:.2f}<br>Año: 1994<br><extra></extra>",
         "mode": "lines+markers",
         "name": "Año 1994",
         "type": "scatter",
         "x": [
          "JAN",
          "FEB",
          "MAR",
          "APR",
          "MAY",
          "JUN",
          "JUL",
          "AUG",
          "SEP",
          "OCT",
          "NOV",
          "DEC"
         ],
         "y": [
          0.29,
          0.24,
          0.22,
          0.2,
          0.2,
          0.25,
          0.23,
          0.21,
          0.21,
          0.25,
          0.3,
          0.32
         ]
        }
       ],
       "layout": {
        "height": 600,
        "hovermode": "x unified",
        "legend": {
         "x": 1.05,
         "xanchor": "left",
         "y": 0.99,
         "yanchor": "top"
        },
        "showlegend": true,
        "template": {
         "data": {
          "bar": [
           {
            "error_x": {
             "color": "#2a3f5f"
            },
            "error_y": {
             "color": "#2a3f5f"
            },
            "marker": {
             "line": {
              "color": "white",
              "width": 0.5
             },
             "pattern": {
              "fillmode": "overlay",
              "size": 10,
              "solidity": 0.2
             }
            },
            "type": "bar"
           }
          ],
          "barpolar": [
           {
            "marker": {
             "line": {
              "color": "white",
              "width": 0.5
             },
             "pattern": {
              "fillmode": "overlay",
              "size": 10,
              "solidity": 0.2
             }
            },
            "type": "barpolar"
           }
          ],
          "carpet": [
           {
            "aaxis": {
             "endlinecolor": "#2a3f5f",
             "gridcolor": "#C8D4E3",
             "linecolor": "#C8D4E3",
             "minorgridcolor": "#C8D4E3",
             "startlinecolor": "#2a3f5f"
            },
            "baxis": {
             "endlinecolor": "#2a3f5f",
             "gridcolor": "#C8D4E3",
             "linecolor": "#C8D4E3",
             "minorgridcolor": "#C8D4E3",
             "startlinecolor": "#2a3f5f"
            },
            "type": "carpet"
           }
          ],
          "choropleth": [
           {
            "colorbar": {
             "outlinewidth": 0,
             "ticks": ""
            },
            "type": "choropleth"
           }
          ],
          "contour": [
           {
            "colorbar": {
             "outlinewidth": 0,
             "ticks": ""
            },
            "colorscale": [
             [
              0,
              "#0d0887"
             ],
             [
              0.1111111111111111,
              "#46039f"
             ],
             [
              0.2222222222222222,
              "#7201a8"
             ],
             [
              0.3333333333333333,
              "#9c179e"
             ],
             [
              0.4444444444444444,
              "#bd3786"
             ],
             [
              0.5555555555555556,
              "#d8576b"
             ],
             [
              0.6666666666666666,
              "#ed7953"
             ],
             [
              0.7777777777777778,
              "#fb9f3a"
             ],
             [
              0.8888888888888888,
              "#fdca26"
             ],
             [
              1,
              "#f0f921"
             ]
            ],
            "type": "contour"
           }
          ],
          "contourcarpet": [
           {
            "colorbar": {
             "outlinewidth": 0,
             "ticks": ""
            },
            "type": "contourcarpet"
           }
          ],
          "heatmap": [
           {
            "colorbar": {
             "outlinewidth": 0,
             "ticks": ""
            },
            "colorscale": [
             [
              0,
              "#0d0887"
             ],
             [
              0.1111111111111111,
              "#46039f"
             ],
             [
              0.2222222222222222,
              "#7201a8"
             ],
             [
              0.3333333333333333,
              "#9c179e"
             ],
             [
              0.4444444444444444,
              "#bd3786"
             ],
             [
              0.5555555555555556,
              "#d8576b"
             ],
             [
              0.6666666666666666,
              "#ed7953"
             ],
             [
              0.7777777777777778,
              "#fb9f3a"
             ],
             [
              0.8888888888888888,
              "#fdca26"
             ],
             [
              1,
              "#f0f921"
             ]
            ],
            "type": "heatmap"
           }
          ],
          "heatmapgl": [
           {
            "colorbar": {
             "outlinewidth": 0,
             "ticks": ""
            },
            "colorscale": [
             [
              0,
              "#0d0887"
             ],
             [
              0.1111111111111111,
              "#46039f"
             ],
             [
              0.2222222222222222,
              "#7201a8"
             ],
             [
              0.3333333333333333,
              "#9c179e"
             ],
             [
              0.4444444444444444,
              "#bd3786"
             ],
             [
              0.5555555555555556,
              "#d8576b"
             ],
             [
              0.6666666666666666,
              "#ed7953"
             ],
             [
              0.7777777777777778,
              "#fb9f3a"
             ],
             [
              0.8888888888888888,
              "#fdca26"
             ],
             [
              1,
              "#f0f921"
             ]
            ],
            "type": "heatmapgl"
           }
          ],
          "histogram": [
           {
            "marker": {
             "pattern": {
              "fillmode": "overlay",
              "size": 10,
              "solidity": 0.2
             }
            },
            "type": "histogram"
           }
          ],
          "histogram2d": [
           {
            "colorbar": {
             "outlinewidth": 0,
             "ticks": ""
            },
            "colorscale": [
             [
              0,
              "#0d0887"
             ],
             [
              0.1111111111111111,
              "#46039f"
             ],
             [
              0.2222222222222222,
              "#7201a8"
             ],
             [
              0.3333333333333333,
              "#9c179e"
             ],
             [
              0.4444444444444444,
              "#bd3786"
             ],
             [
              0.5555555555555556,
              "#d8576b"
             ],
             [
              0.6666666666666666,
              "#ed7953"
             ],
             [
              0.7777777777777778,
              "#fb9f3a"
             ],
             [
              0.8888888888888888,
              "#fdca26"
             ],
             [
              1,
              "#f0f921"
             ]
            ],
            "type": "histogram2d"
           }
          ],
          "histogram2dcontour": [
           {
            "colorbar": {
             "outlinewidth": 0,
             "ticks": ""
            },
            "colorscale": [
             [
              0,
              "#0d0887"
             ],
             [
              0.1111111111111111,
              "#46039f"
             ],
             [
              0.2222222222222222,
              "#7201a8"
             ],
             [
              0.3333333333333333,
              "#9c179e"
             ],
             [
              0.4444444444444444,
              "#bd3786"
             ],
             [
              0.5555555555555556,
              "#d8576b"
             ],
             [
              0.6666666666666666,
              "#ed7953"
             ],
             [
              0.7777777777777778,
              "#fb9f3a"
             ],
             [
              0.8888888888888888,
              "#fdca26"
             ],
             [
              1,
              "#f0f921"
             ]
            ],
            "type": "histogram2dcontour"
           }
          ],
          "mesh3d": [
           {
            "colorbar": {
             "outlinewidth": 0,
             "ticks": ""
            },
            "type": "mesh3d"
           }
          ],
          "parcoords": [
           {
            "line": {
             "colorbar": {
              "outlinewidth": 0,
              "ticks": ""
             }
            },
            "type": "parcoords"
           }
          ],
          "pie": [
           {
            "automargin": true,
            "type": "pie"
           }
          ],
          "scatter": [
           {
            "fillpattern": {
             "fillmode": "overlay",
             "size": 10,
             "solidity": 0.2
            },
            "type": "scatter"
           }
          ],
          "scatter3d": [
           {
            "line": {
             "colorbar": {
              "outlinewidth": 0,
              "ticks": ""
             }
            },
            "marker": {
             "colorbar": {
              "outlinewidth": 0,
              "ticks": ""
             }
            },
            "type": "scatter3d"
           }
          ],
          "scattercarpet": [
           {
            "marker": {
             "colorbar": {
              "outlinewidth": 0,
              "ticks": ""
             }
            },
            "type": "scattercarpet"
           }
          ],
          "scattergeo": [
           {
            "marker": {
             "colorbar": {
              "outlinewidth": 0,
              "ticks": ""
             }
            },
            "type": "scattergeo"
           }
          ],
          "scattergl": [
           {
            "marker": {
             "colorbar": {
              "outlinewidth": 0,
              "ticks": ""
             }
            },
            "type": "scattergl"
           }
          ],
          "scattermapbox": [
           {
            "marker": {
             "colorbar": {
              "outlinewidth": 0,
              "ticks": ""
             }
            },
            "type": "scattermapbox"
           }
          ],
          "scatterpolar": [
           {
            "marker": {
             "colorbar": {
              "outlinewidth": 0,
              "ticks": ""
             }
            },
            "type": "scatterpolar"
           }
          ],
          "scatterpolargl": [
           {
            "marker": {
             "colorbar": {
              "outlinewidth": 0,
              "ticks": ""
             }
            },
            "type": "scatterpolargl"
           }
          ],
          "scatterternary": [
           {
            "marker": {
             "colorbar": {
              "outlinewidth": 0,
              "ticks": ""
             }
            },
            "type": "scatterternary"
           }
          ],
          "surface": [
           {
            "colorbar": {
             "outlinewidth": 0,
             "ticks": ""
            },
            "colorscale": [
             [
              0,
              "#0d0887"
             ],
             [
              0.1111111111111111,
              "#46039f"
             ],
             [
              0.2222222222222222,
              "#7201a8"
             ],
             [
              0.3333333333333333,
              "#9c179e"
             ],
             [
              0.4444444444444444,
              "#bd3786"
             ],
             [
              0.5555555555555556,
              "#d8576b"
             ],
             [
              0.6666666666666666,
              "#ed7953"
             ],
             [
              0.7777777777777778,
              "#fb9f3a"
             ],
             [
              0.8888888888888888,
              "#fdca26"
             ],
             [
              1,
              "#f0f921"
             ]
            ],
            "type": "surface"
           }
          ],
          "table": [
           {
            "cells": {
             "fill": {
              "color": "#EBF0F8"
             },
             "line": {
              "color": "white"
             }
            },
            "header": {
             "fill": {
              "color": "#C8D4E3"
             },
             "line": {
              "color": "white"
             }
            },
            "type": "table"
           }
          ]
         },
         "layout": {
          "annotationdefaults": {
           "arrowcolor": "#2a3f5f",
           "arrowhead": 0,
           "arrowwidth": 1
          },
          "autotypenumbers": "strict",
          "coloraxis": {
           "colorbar": {
            "outlinewidth": 0,
            "ticks": ""
           }
          },
          "colorscale": {
           "diverging": [
            [
             0,
             "#8e0152"
            ],
            [
             0.1,
             "#c51b7d"
            ],
            [
             0.2,
             "#de77ae"
            ],
            [
             0.3,
             "#f1b6da"
            ],
            [
             0.4,
             "#fde0ef"
            ],
            [
             0.5,
             "#f7f7f7"
            ],
            [
             0.6,
             "#e6f5d0"
            ],
            [
             0.7,
             "#b8e186"
            ],
            [
             0.8,
             "#7fbc41"
            ],
            [
             0.9,
             "#4d9221"
            ],
            [
             1,
             "#276419"
            ]
           ],
           "sequential": [
            [
             0,
             "#0d0887"
            ],
            [
             0.1111111111111111,
             "#46039f"
            ],
            [
             0.2222222222222222,
             "#7201a8"
            ],
            [
             0.3333333333333333,
             "#9c179e"
            ],
            [
             0.4444444444444444,
             "#bd3786"
            ],
            [
             0.5555555555555556,
             "#d8576b"
            ],
            [
             0.6666666666666666,
             "#ed7953"
            ],
            [
             0.7777777777777778,
             "#fb9f3a"
            ],
            [
             0.8888888888888888,
             "#fdca26"
            ],
            [
             1,
             "#f0f921"
            ]
           ],
           "sequentialminus": [
            [
             0,
             "#0d0887"
            ],
            [
             0.1111111111111111,
             "#46039f"
            ],
            [
             0.2222222222222222,
             "#7201a8"
            ],
            [
             0.3333333333333333,
             "#9c179e"
            ],
            [
             0.4444444444444444,
             "#bd3786"
            ],
            [
             0.5555555555555556,
             "#d8576b"
            ],
            [
             0.6666666666666666,
             "#ed7953"
            ],
            [
             0.7777777777777778,
             "#fb9f3a"
            ],
            [
             0.8888888888888888,
             "#fdca26"
            ],
            [
             1,
             "#f0f921"
            ]
           ]
          },
          "colorway": [
           "#636efa",
           "#EF553B",
           "#00cc96",
           "#ab63fa",
           "#FFA15A",
           "#19d3f3",
           "#FF6692",
           "#B6E880",
           "#FF97FF",
           "#FECB52"
          ],
          "font": {
           "color": "#2a3f5f"
          },
          "geo": {
           "bgcolor": "white",
           "lakecolor": "white",
           "landcolor": "white",
           "showlakes": true,
           "showland": true,
           "subunitcolor": "#C8D4E3"
          },
          "hoverlabel": {
           "align": "left"
          },
          "hovermode": "closest",
          "mapbox": {
           "style": "light"
          },
          "paper_bgcolor": "white",
          "plot_bgcolor": "white",
          "polar": {
           "angularaxis": {
            "gridcolor": "#EBF0F8",
            "linecolor": "#EBF0F8",
            "ticks": ""
           },
           "bgcolor": "white",
           "radialaxis": {
            "gridcolor": "#EBF0F8",
            "linecolor": "#EBF0F8",
            "ticks": ""
           }
          },
          "scene": {
           "xaxis": {
            "backgroundcolor": "white",
            "gridcolor": "#DFE8F3",
            "gridwidth": 2,
            "linecolor": "#EBF0F8",
            "showbackground": true,
            "ticks": "",
            "zerolinecolor": "#EBF0F8"
           },
           "yaxis": {
            "backgroundcolor": "white",
            "gridcolor": "#DFE8F3",
            "gridwidth": 2,
            "linecolor": "#EBF0F8",
            "showbackground": true,
            "ticks": "",
            "zerolinecolor": "#EBF0F8"
           },
           "zaxis": {
            "backgroundcolor": "white",
            "gridcolor": "#DFE8F3",
            "gridwidth": 2,
            "linecolor": "#EBF0F8",
            "showbackground": true,
            "ticks": "",
            "zerolinecolor": "#EBF0F8"
           }
          },
          "shapedefaults": {
           "line": {
            "color": "#2a3f5f"
           }
          },
          "ternary": {
           "aaxis": {
            "gridcolor": "#DFE8F3",
            "linecolor": "#A2B1C6",
            "ticks": ""
           },
           "baxis": {
            "gridcolor": "#DFE8F3",
            "linecolor": "#A2B1C6",
            "ticks": ""
           },
           "bgcolor": "white",
           "caxis": {
            "gridcolor": "#DFE8F3",
            "linecolor": "#A2B1C6",
            "ticks": ""
           }
          },
          "title": {
           "x": 0.05
          },
          "xaxis": {
           "automargin": true,
           "gridcolor": "#EBF0F8",
           "linecolor": "#EBF0F8",
           "ticks": "",
           "title": {
            "standoff": 15
           },
           "zerolinecolor": "#EBF0F8",
           "zerolinewidth": 2
          },
          "yaxis": {
           "automargin": true,
           "gridcolor": "#EBF0F8",
           "linecolor": "#EBF0F8",
           "ticks": "",
           "title": {
            "standoff": 15
           },
           "zerolinecolor": "#EBF0F8",
           "zerolinewidth": 2
          }
         }
        },
        "title": {
         "font": {
          "size": 20
         },
         "text": "Albedo Superficial (adimensional)",
         "x": 0.5,
         "xanchor": "center",
         "y": 0.95,
         "yanchor": "top"
        },
        "width": 1000,
        "xaxis": {
         "gridcolor": "LightGray",
         "gridwidth": 1,
         "showgrid": true,
         "title": {
          "text": "Mes"
         }
        },
        "yaxis": {
         "gridcolor": "LightGray",
         "gridwidth": 1,
         "showgrid": true,
         "title": {
          "text": "Albedo Superficial (adimensional)"
         }
        }
       }
      }
     },
     "metadata": {},
     "output_type": "display_data"
    }
   ],
   "source": [
    "import pandas as pd\n",
    "import plotly.graph_objects as go\n",
    "import ipywidgets as widgets\n",
    "from IPython.display import display, clear_output\n",
    "\n",
    "# Cargar datos\n",
    "df = pd.read_csv('./clima-parameters.csv')\n",
    "\n",
    "name_map = {\n",
    "    'PS': 'Presión en Superficie (kPa)',\n",
    "    'TS': 'Temperatura de la Superficie de la Tierra (°C)',\n",
    "    'T2M': 'Temperatura a 2 Metros (°C)',\n",
    "    'QV2M': 'Humedad Específica a 2 Metros (g/kg)',\n",
    "    'RH2M': 'Humedad Relativa a 2 Metros (%)',\n",
    "    'WS2M': 'Velocidad del Viento a 2 Metros (m/s)',\n",
    "    'T2M_MAX': 'Temperatura Máxima a 2 Metros (°C)',\n",
    "    'T2M_MIN': 'Temperatura Mínima a 2 Metros (°C)',\n",
    "    'WS2M_MAX': 'Velocidad Máxima del Viento a 2 Metros (m/s)',\n",
    "    'WS2M_MIN': 'Velocidad Mínima del Viento a 2 Metros (m/s)',\n",
    "    'T2M_RANGE': 'Rango de Temperatura a 2 Metros (°C)',\n",
    "    'WS2M_RANGE': 'Rango de Velocidad del Viento a 2 Metros (m/s)',\n",
    "    'PRECTOTCORR': 'Precipitación Corregida (mm/día)',\n",
    "    'ALLSKY_SRF_ALB': 'Albedo Superficial (adimensional)',\n",
    "    'PRECTOTCORR_SUM': 'Suma de Precipitación Corregida (mm)',\n",
    "    'ALLSKY_SFC_LW_DWN': 'Irradiancia Larga Onda en Superficie (W/m²)',\n",
    "    'ALLSKY_SFC_SW_DNI': 'Irradiancia Directa Onda Corta en Superficie (MJ/m²/día)',\n",
    "    'ALLSKY_SFC_SW_DWN': 'Irradiancia Onda Corta en Superficie (MJ/m²/día)',\n",
    "    'CLRSKY_SFC_SW_DWN': 'Irradiancia Onda Corta en Cielo Despejado (MJ/m²/día)',\n",
    "    'ALLSKY_SFC_SW_DIFF': 'Irradiancia Difusa Onda Corta en Superficie (MJ/m²/día)'\n",
    "}\n",
    "\n",
    "categorias = {\n",
    "    \"Presión\" : ['Presión en Superficie (kPa)'],\n",
    "    'Temperatura': [\n",
    "        'Temperatura de la Superficie de la Tierra (°C)',\n",
    "        'Temperatura a 2 Metros (°C)',\n",
    "        'Temperatura Máxima a 2 Metros (°C)',\n",
    "        'Temperatura Mínima a 2 Metros (°C)',\n",
    "        'Rango de Temperatura a 2 Metros (°C)'\n",
    "    ],\n",
    "    'Viento': [\n",
    "        'Velocidad del Viento a 2 Metros (m/s)',\n",
    "        'Velocidad Máxima del Viento a 2 Metros (m/s)',\n",
    "        'Velocidad Mínima del Viento a 2 Metros (m/s)',\n",
    "        'Rango de Velocidad del Viento a 2 Metros (m/s)'\n",
    "    ],\n",
    "    'Humedad': [\n",
    "        'Humedad Específica a 2 Metros (g/kg)',\n",
    "        'Humedad Relativa a 2 Metros (%)'\n",
    "    ],\n",
    "    'Precipitación': [\n",
    "        'Precipitación Corregida (mm/día)',\n",
    "        'Suma de Precipitación Corregida (mm)'\n",
    "    ],\n",
    "    'Radiación Solar': [\n",
    "        'La radiacion Albedo Superficial (adimensional)',\n",
    "        'Irradiancia Larga Onda en Superficie (W/m²)',\n",
    "        'Irradiancia Directa Onda Corta en Superficie (MJ/m²/día)',\n",
    "        'Irradiancia Onda Corta en Superficie (MJ/m²/día)',\n",
    "        'Irradiancia Onda Corta en Cielo Despejado (MJ/m²/día)',\n",
    "        'Irradiancia Difusa Onda Corta en Superficie (MJ/m²/día)'\n",
    "    ]\n",
    "}\n",
    "categorias = {\n",
    "    \"Presión\" : ['Presión en Superficie (kPa)'],\n",
    "    'Temperatura': [\n",
    "        'Temperatura de la Superficie de la Tierra (°C)',\n",
    "        'Temperatura a 2 Metros (°C)',\n",
    "        'Temperatura Máxima a 2 Metros (°C)',\n",
    "        'Temperatura Mínima a 2 Metros (°C)',\n",
    "        'Rango de Temperatura a 2 Metros (°C)'\n",
    "    ],\n",
    "    'Viento': [\n",
    "        'Velocidad del Viento a 2 Metros (m/s)',\n",
    "        'Velocidad Máxima del Viento a 2 Metros (m/s)',\n",
    "        'Velocidad Mínima del Viento a 2 Metros (m/s)',\n",
    "        'Rango de Velocidad del Viento a 2 Metros (m/s)'\n",
    "    ],\n",
    "    'Humedad': [\n",
    "        'Humedad Específica a 2 Metros (g/kg)',\n",
    "        'Humedad Relativa a 2 Metros (%)'\n",
    "    ],\n",
    "    'Precipitación': [\n",
    "        'Precipitación Corregida (mm/día)',\n",
    "        'Suma de Precipitación Corregida (mm)'\n",
    "    ],\n",
    "    'Radiación Solar': [\n",
    "        'Albedo Superficial (adimensional)',\n",
    "        'Irradiancia Larga Onda en Superficie (W/m²)',\n",
    "        'Irradiancia Directa Onda Corta en Superficie (MJ/m²/día)',\n",
    "        'Irradiancia Onda Corta en Superficie (MJ/m²/día)',\n",
    "        'Irradiancia Onda Corta en Cielo Despejado (MJ/m²/día)',\n",
    "        'Irradiancia Difusa Onda Corta en Superficie (MJ/m²/día)'\n",
    "    ]\n",
    "}\n",
    "\n",
    "meses = ['JAN', 'FEB', 'MAR', 'APR', 'MAY', 'JUN', 'JUL', 'AUG', 'SEP', 'OCT', 'NOV', 'DEC']\n",
    "df['PARAMETER'] = df['PARAMETER'].replace(name_map)\n",
    "años_disponibles = sorted(df['YEAR'].unique())\n",
    "df['Anual_Promedio'] = df[meses].mean(axis=1)\n",
    "\n",
    "# Función para actualizar el widget de parámetros basado en la categoría\n",
    "def actualizar_parametros(change):\n",
    "    categoria = categoria_widget.value\n",
    "    parametros_widget.options = categorias[categoria]\n",
    "\n",
    "# Función para visualizar estadísticas útiles\n",
    "# Función para visualizar estadísticas útiles\n",
    "def mostrar_estadisticas():\n",
    "    parametro = parametros_widget.value\n",
    "    años = años_widget.value\n",
    "    data = df[df['PARAMETER'] == parametro][['YEAR'] + meses]\n",
    "\n",
    "    if not data.empty:\n",
    "        # Calcular el promedio, mediana, máximo y mínimo de los valores\n",
    "        promedio = data[data['YEAR'].isin(años)][meses].mean().mean()\n",
    "        mediana = data[data['YEAR'].isin(años)][meses].median().median()\n",
    "        maximo = data[data['YEAR'].isin(años)][meses].max().max()\n",
    "        minimo = data[data['YEAR'].isin(años)][meses].min().min()\n",
    "        \n",
    "        # Obtener el valor máximo histórico y el año correspondiente\n",
    "        max_global = data[meses].max().max()\n",
    "        max_year = data[data[meses].max(axis=1) == max_global]['YEAR'].values[0]\n",
    "\n",
    "        # Mostrar estadísticas\n",
    "        estadisticas_widget.value = (\n",
    "            f\"Parámetro: {parametro}\\n\"\n",
    "            f\"Promedio: {promedio:.2f}\\n\"\n",
    "            f\"Mediana: {mediana:.2f}\\n\"\n",
    "            f\"Máximo: {maximo:.2f}\\n\"\n",
    "            f\"Mínimo: {minimo:.2f}\\n\\n\"\n",
    "            f\"Valor máximo histórico: {max_global:.2f} (Año: {max_year})\"\n",
    "        )\n",
    "    else:\n",
    "        estadisticas_widget.value = \"No hay datos disponibles para este parámetro y años seleccionados.\"\n",
    "\n",
    "# Función principal de visualización\n",
    "def visualizar_datos(change):\n",
    "    parametro = parametros_widget.value\n",
    "    años = años_widget.value\n",
    "    clear_output(wait=True)\n",
    "    display(widget_layout)\n",
    "    mostrar_estadisticas()  # Actualiza estadísticas cada vez que se visualizan los datos\n",
    "    \n",
    "    fig = go.Figure()\n",
    "    for year in años:\n",
    "        data_year = df[(df['YEAR'] == year) & (df['PARAMETER'] == parametro)]\n",
    "        \n",
    "        if not data_year.empty:\n",
    "            valores = data_year[meses].values.flatten()\n",
    "            fig.add_trace(go.Scatter(\n",
    "                x=meses,\n",
    "                y=valores,\n",
    "                mode='lines+markers',\n",
    "                name=f'Año {year}',\n",
    "                hovertemplate=\"Mes: %{x}<br>\" +\"Valor: %{y:.2f}<br>\" +f\"Año: {year}<br>\" +\"<extra></extra>\"))\n",
    "\n",
    "    fig.update_layout(\n",
    "        title={'text': f'{parametro}', 'y':0.95, 'x':0.5, 'xanchor': 'center', 'yanchor': 'top', 'font': dict(size=20)},\n",
    "        xaxis_title=\"Mes\",\n",
    "        yaxis_title=f\"{parametro}\",\n",
    "        hovermode='x unified',\n",
    "        template='plotly_white',\n",
    "        height=600,\n",
    "        width=1000,\n",
    "        legend=dict(yanchor=\"top\", y=0.99, xanchor=\"left\", x=1.05),\n",
    "        showlegend=True\n",
    "    )\n",
    "    fig.update_xaxes(showgrid=True, gridwidth=1, gridcolor='LightGray')\n",
    "    fig.update_yaxes(showgrid=True, gridwidth=1, gridcolor='LightGray')\n",
    "    \n",
    "    display(fig)\n",
    "\n",
    "# Crear widgets\n",
    "categoria_widget = widgets.Dropdown(options=list(categorias.keys()), description='Categoría:', style={'description_width': 'initial'}, layout={'width': 'auto'})\n",
    "parametros_widget = widgets.Dropdown(description='Parámetro:', style={'description_width': 'initial'}, layout={'width': 'auto'})\n",
    "años_widget = widgets.SelectMultiple(options=años_disponibles, description='Años:', style={'description_width': 'initial'}, layout={'width': 'auto'})\n",
    "estadisticas_widget = widgets.Textarea(description='Estadísticas:', style={'description_width': 'initial'}, layout={'width': 'auto', 'height': '150px'})\n",
    "\n",
    "# Agregar observadores a los widgets\n",
    "categoria_widget.observe(actualizar_parametros, names='value')\n",
    "parametros_widget.observe(visualizar_datos, names='value')\n",
    "años_widget.observe(visualizar_datos, names='value')\n",
    "\n",
    "# Inicializar valores\n",
    "categoria_widget.value = list(categorias.keys())[0]\n",
    "actualizar_parametros(None)\n",
    "\n",
    "# Layout de widgets\n",
    "widget_layout = widgets.VBox([categoria_widget, parametros_widget, años_widget, estadisticas_widget])\n",
    "\n",
    "# Mostrar widgets\n",
    "display(widget_layout)\n",
    "visualizar_datos(None)\n"
   ]
  },
  {
   "cell_type": "code",
   "execution_count": 16,
   "metadata": {},
   "outputs": [
    {
     "name": "stdout",
     "output_type": "stream",
     "text": [
      "Año con el valor promedio más alto para cada parámetro:\n",
      "\n",
      "              PARAMETER  AÑO MAX AVG   VALUE MAX\n",
      "507   ALLSKY_SFC_LW_DWN         2002  379.534167\n",
      "639  ALLSKY_SFC_SW_DIFF         2002    9.220000\n",
      "555   ALLSKY_SFC_SW_DNI         2017    9.450833\n",
      "568   ALLSKY_SFC_SW_DWN         1997   17.977500\n",
      "433      ALLSKY_SRF_ALB         1994    0.243333\n",
      "594   CLRSKY_SFC_SW_DWN         1990   25.435833\n",
      "404         PRECTOTCORR         1998    4.391667\n",
      "494     PRECTOTCORR_SUM         2022  127.652500\n",
      "26                   PS         2016   79.294167\n",
      "128                QV2M         2019   12.340833\n",
      "141                RH2M         1999   87.432500\n",
      "92                  T2M         2016   16.777500\n",
      "209             T2M_MAX         2001   24.989167\n",
      "239             T2M_MIN         1998   11.027500\n",
      "341           T2M_RANGE         2001   14.895833\n",
      "45                   TS         2002   17.758333\n",
      "190                WS2M         2015    1.798333\n",
      "278            WS2M_MAX         2004    5.829167\n",
      "325            WS2M_MIN         2018    0.115000\n",
      "377          WS2M_RANGE         2004    5.768333\n",
      "\n",
      "Estadísticas básicas para cada parámetro en todos los años:\n",
      "\n",
      "             PARAMETER       Media      Maximo      Minimo  \\\n",
      "0    ALLSKY_SFC_LW_DWN  372.323434  379.534167  357.222500   \n",
      "1   ALLSKY_SFC_SW_DIFF    8.860720    9.220000    8.586667   \n",
      "2    ALLSKY_SFC_SW_DNI    8.846477    9.450833    8.004167   \n",
      "3    ALLSKY_SFC_SW_DWN   15.797879   17.977500   14.600000   \n",
      "4       ALLSKY_SRF_ALB    0.167172    0.243333    0.147500   \n",
      "5    CLRSKY_SFC_SW_DWN   25.170833   25.435833   24.374167   \n",
      "6          PRECTOTCORR    2.144798    4.391667    0.000000   \n",
      "7      PRECTOTCORR_SUM   76.077955  127.652500   33.836667   \n",
      "8                   PS   79.248586   79.294167   79.200833   \n",
      "9                 QV2M   11.875303   12.340833   11.295833   \n",
      "10                RH2M   83.360480   87.432500   78.900000   \n",
      "11                 T2M   16.194040   16.777500   15.212500   \n",
      "12             T2M_MAX   23.721641   24.989167   21.805833   \n",
      "13             T2M_MIN   10.304520   11.027500    9.250000   \n",
      "14           T2M_RANGE   13.417424   14.895833   12.029167   \n",
      "15                  TS   17.023005   17.758333   15.827500   \n",
      "16                WS2M    1.425354    1.798333    1.184167   \n",
      "17            WS2M_MAX    5.129899    5.829167    4.197500   \n",
      "18            WS2M_MIN    0.049899    0.115000    0.028333   \n",
      "19          WS2M_RANGE    5.080101    5.768333    4.144167   \n",
      "\n",
      "    Desviacion_Estandar  \n",
      "0              7.283661  \n",
      "1              0.148805  \n",
      "2              0.375035  \n",
      "3              1.014147  \n",
      "4              0.026868  \n",
      "5              0.256737  \n",
      "6              1.141734  \n",
      "7             24.838465  \n",
      "8              0.019380  \n",
      "9              0.272022  \n",
      "10             2.096667  \n",
      "11             0.387551  \n",
      "12             0.794846  \n",
      "13             0.399569  \n",
      "14             0.682267  \n",
      "15             0.490755  \n",
      "16             0.137261  \n",
      "17             0.408621  \n",
      "18             0.018181  \n",
      "19             0.408249  \n"
     ]
    }
   ],
   "source": [
    "import pandas as pd\n",
    "\n",
    "# Cargar los datos\n",
    "df = pd.read_csv('/home/hades66/zzaingt-home/AnalsisVisualizacionDatos/PFClimate/Data/clima-parameters.csv')\n",
    "\n",
    "# Agrupar los datos por año y calcular el promedio mensual de cada parámetro\n",
    "# Supongamos que los meses están en columnas de 'JAN' a 'DEC'\n",
    "meses = ['JAN', 'FEB', 'MAR', 'APR', 'MAY', 'JUN', 'JUL', 'AUG', 'SEP', 'OCT', 'NOV', 'DEC']\n",
    "\n",
    "# Calcular el promedio anual para cada parámetro\n",
    "df['Anual_Promedio'] = df[meses].mean(axis=1)\n",
    "\n",
    "# Obtener el año con el promedio más alto para cada parámetro\n",
    "valores_maximos_por_parametro = df.loc[df.groupby('PARAMETER')['Anual_Promedio'].idxmax()][['PARAMETER', 'YEAR', 'Anual_Promedio']]\n",
    "valores_maximos_por_parametro = valores_maximos_por_parametro.rename(columns={'YEAR': 'AÑO MAX AVG', 'Anual_Promedio': 'VALUE MAX'})\n",
    "\n",
    "# Calcular estadísticas básicas para cada parámetro en todos los años\n",
    "# Estas estadísticas incluyen: media, máximo, mínimo y desviación estándar\n",
    "estadisticas_por_parametro = df.groupby('PARAMETER')['Anual_Promedio'].agg(\n",
    "    Media='mean',\n",
    "    Maximo='max',\n",
    "    Minimo='min',\n",
    "    Desviacion_Estandar='std'\n",
    ").reset_index()\n",
    "\n",
    "# Mostrar los resultados\n",
    "print(\"Año con el valor promedio más alto para cada parámetro:\\n\")\n",
    "print(valores_maximos_por_parametro)\n",
    "\n",
    "print(\"\\nEstadísticas básicas para cada parámetro en todos los años:\\n\")\n",
    "print(estadisticas_por_parametro)"
   ]
  }
 ],
 "metadata": {
  "kernelspec": {
   "display_name": ".venv",
   "language": "python",
   "name": "python3"
  },
  "language_info": {
   "codemirror_mode": {
    "name": "ipython",
    "version": 3
   },
   "file_extension": ".py",
   "mimetype": "text/x-python",
   "name": "python",
   "nbconvert_exporter": "python",
   "pygments_lexer": "ipython3",
   "version": "3.13.0"
  }
 },
 "nbformat": 4,
 "nbformat_minor": 2
}
