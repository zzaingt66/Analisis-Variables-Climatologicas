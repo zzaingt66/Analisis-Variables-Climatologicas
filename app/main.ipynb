{
 "cells": [
  {
   "cell_type": "markdown",
   "metadata": {},
   "source": [
    "# Analisis de las diferentes Vairables climatologicas en Cali desde 1990 a 2022\n",
    "## Analisis de la radiacion solar\n",
    "En esta celda se debe explicar sobre la radiacion solar, creo? "
   ]
  },
  {
   "cell_type": "code",
   "execution_count": null,
   "metadata": {},
   "outputs": [
    {
     "data": {
      "application/vnd.jupyter.widget-view+json": {
       "model_id": "a669a3c1e8cd47969a6c9016f5876f90",
       "version_major": 2,
       "version_minor": 0
      },
      "text/plain": [
       "VBox(children=(HBox(children=(Dropdown(description='Categoría:', layout=Layout(width='auto'), options=('Temper…"
      ]
     },
     "metadata": {},
     "output_type": "display_data"
    },
    {
     "data": {
      "application/vnd.plotly.v1+json": {
       "config": {
        "plotlyServerURL": "https://plot.ly"
       },
       "data": [
        {
         "hovertemplate": "Mes: %{x}<br>Valor: %{y:.2f}<br>Año: 1992<br><extra></extra>",
         "mode": "lines+markers",
         "name": "Año 1992",
         "type": "scatter",
         "x": [
          "JAN",
          "FEB",
          "MAR",
          "APR",
          "MAY",
          "JUN",
          "JUL",
          "AUG",
          "SEP",
          "OCT",
          "NOV",
          "DEC"
         ],
         "y": [
          16.48,
          16.8,
          17.61,
          17.05,
          16.63,
          16.41,
          15.65,
          16.12,
          16.15,
          16.31,
          15.75,
          15.66
         ]
        }
       ],
       "layout": {
        "height": 600,
        "hovermode": "x unified",
        "legend": {
         "x": 1.05,
         "xanchor": "left",
         "y": 0.99,
         "yanchor": "top"
        },
        "showlegend": true,
        "template": {
         "data": {
          "bar": [
           {
            "error_x": {
             "color": "#2a3f5f"
            },
            "error_y": {
             "color": "#2a3f5f"
            },
            "marker": {
             "line": {
              "color": "white",
              "width": 0.5
             },
             "pattern": {
              "fillmode": "overlay",
              "size": 10,
              "solidity": 0.2
             }
            },
            "type": "bar"
           }
          ],
          "barpolar": [
           {
            "marker": {
             "line": {
              "color": "white",
              "width": 0.5
             },
             "pattern": {
              "fillmode": "overlay",
              "size": 10,
              "solidity": 0.2
             }
            },
            "type": "barpolar"
           }
          ],
          "carpet": [
           {
            "aaxis": {
             "endlinecolor": "#2a3f5f",
             "gridcolor": "#C8D4E3",
             "linecolor": "#C8D4E3",
             "minorgridcolor": "#C8D4E3",
             "startlinecolor": "#2a3f5f"
            },
            "baxis": {
             "endlinecolor": "#2a3f5f",
             "gridcolor": "#C8D4E3",
             "linecolor": "#C8D4E3",
             "minorgridcolor": "#C8D4E3",
             "startlinecolor": "#2a3f5f"
            },
            "type": "carpet"
           }
          ],
          "choropleth": [
           {
            "colorbar": {
             "outlinewidth": 0,
             "ticks": ""
            },
            "type": "choropleth"
           }
          ],
          "contour": [
           {
            "colorbar": {
             "outlinewidth": 0,
             "ticks": ""
            },
            "colorscale": [
             [
              0,
              "#0d0887"
             ],
             [
              0.1111111111111111,
              "#46039f"
             ],
             [
              0.2222222222222222,
              "#7201a8"
             ],
             [
              0.3333333333333333,
              "#9c179e"
             ],
             [
              0.4444444444444444,
              "#bd3786"
             ],
             [
              0.5555555555555556,
              "#d8576b"
             ],
             [
              0.6666666666666666,
              "#ed7953"
             ],
             [
              0.7777777777777778,
              "#fb9f3a"
             ],
             [
              0.8888888888888888,
              "#fdca26"
             ],
             [
              1,
              "#f0f921"
             ]
            ],
            "type": "contour"
           }
          ],
          "contourcarpet": [
           {
            "colorbar": {
             "outlinewidth": 0,
             "ticks": ""
            },
            "type": "contourcarpet"
           }
          ],
          "heatmap": [
           {
            "colorbar": {
             "outlinewidth": 0,
             "ticks": ""
            },
            "colorscale": [
             [
              0,
              "#0d0887"
             ],
             [
              0.1111111111111111,
              "#46039f"
             ],
             [
              0.2222222222222222,
              "#7201a8"
             ],
             [
              0.3333333333333333,
              "#9c179e"
             ],
             [
              0.4444444444444444,
              "#bd3786"
             ],
             [
              0.5555555555555556,
              "#d8576b"
             ],
             [
              0.6666666666666666,
              "#ed7953"
             ],
             [
              0.7777777777777778,
              "#fb9f3a"
             ],
             [
              0.8888888888888888,
              "#fdca26"
             ],
             [
              1,
              "#f0f921"
             ]
            ],
            "type": "heatmap"
           }
          ],
          "heatmapgl": [
           {
            "colorbar": {
             "outlinewidth": 0,
             "ticks": ""
            },
            "colorscale": [
             [
              0,
              "#0d0887"
             ],
             [
              0.1111111111111111,
              "#46039f"
             ],
             [
              0.2222222222222222,
              "#7201a8"
             ],
             [
              0.3333333333333333,
              "#9c179e"
             ],
             [
              0.4444444444444444,
              "#bd3786"
             ],
             [
              0.5555555555555556,
              "#d8576b"
             ],
             [
              0.6666666666666666,
              "#ed7953"
             ],
             [
              0.7777777777777778,
              "#fb9f3a"
             ],
             [
              0.8888888888888888,
              "#fdca26"
             ],
             [
              1,
              "#f0f921"
             ]
            ],
            "type": "heatmapgl"
           }
          ],
          "histogram": [
           {
            "marker": {
             "pattern": {
              "fillmode": "overlay",
              "size": 10,
              "solidity": 0.2
             }
            },
            "type": "histogram"
           }
          ],
          "histogram2d": [
           {
            "colorbar": {
             "outlinewidth": 0,
             "ticks": ""
            },
            "colorscale": [
             [
              0,
              "#0d0887"
             ],
             [
              0.1111111111111111,
              "#46039f"
             ],
             [
              0.2222222222222222,
              "#7201a8"
             ],
             [
              0.3333333333333333,
              "#9c179e"
             ],
             [
              0.4444444444444444,
              "#bd3786"
             ],
             [
              0.5555555555555556,
              "#d8576b"
             ],
             [
              0.6666666666666666,
              "#ed7953"
             ],
             [
              0.7777777777777778,
              "#fb9f3a"
             ],
             [
              0.8888888888888888,
              "#fdca26"
             ],
             [
              1,
              "#f0f921"
             ]
            ],
            "type": "histogram2d"
           }
          ],
          "histogram2dcontour": [
           {
            "colorbar": {
             "outlinewidth": 0,
             "ticks": ""
            },
            "colorscale": [
             [
              0,
              "#0d0887"
             ],
             [
              0.1111111111111111,
              "#46039f"
             ],
             [
              0.2222222222222222,
              "#7201a8"
             ],
             [
              0.3333333333333333,
              "#9c179e"
             ],
             [
              0.4444444444444444,
              "#bd3786"
             ],
             [
              0.5555555555555556,
              "#d8576b"
             ],
             [
              0.6666666666666666,
              "#ed7953"
             ],
             [
              0.7777777777777778,
              "#fb9f3a"
             ],
             [
              0.8888888888888888,
              "#fdca26"
             ],
             [
              1,
              "#f0f921"
             ]
            ],
            "type": "histogram2dcontour"
           }
          ],
          "mesh3d": [
           {
            "colorbar": {
             "outlinewidth": 0,
             "ticks": ""
            },
            "type": "mesh3d"
           }
          ],
          "parcoords": [
           {
            "line": {
             "colorbar": {
              "outlinewidth": 0,
              "ticks": ""
             }
            },
            "type": "parcoords"
           }
          ],
          "pie": [
           {
            "automargin": true,
            "type": "pie"
           }
          ],
          "scatter": [
           {
            "fillpattern": {
             "fillmode": "overlay",
             "size": 10,
             "solidity": 0.2
            },
            "type": "scatter"
           }
          ],
          "scatter3d": [
           {
            "line": {
             "colorbar": {
              "outlinewidth": 0,
              "ticks": ""
             }
            },
            "marker": {
             "colorbar": {
              "outlinewidth": 0,
              "ticks": ""
             }
            },
            "type": "scatter3d"
           }
          ],
          "scattercarpet": [
           {
            "marker": {
             "colorbar": {
              "outlinewidth": 0,
              "ticks": ""
             }
            },
            "type": "scattercarpet"
           }
          ],
          "scattergeo": [
           {
            "marker": {
             "colorbar": {
              "outlinewidth": 0,
              "ticks": ""
             }
            },
            "type": "scattergeo"
           }
          ],
          "scattergl": [
           {
            "marker": {
             "colorbar": {
              "outlinewidth": 0,
              "ticks": ""
             }
            },
            "type": "scattergl"
           }
          ],
          "scattermapbox": [
           {
            "marker": {
             "colorbar": {
              "outlinewidth": 0,
              "ticks": ""
             }
            },
            "type": "scattermapbox"
           }
          ],
          "scatterpolar": [
           {
            "marker": {
             "colorbar": {
              "outlinewidth": 0,
              "ticks": ""
             }
            },
            "type": "scatterpolar"
           }
          ],
          "scatterpolargl": [
           {
            "marker": {
             "colorbar": {
              "outlinewidth": 0,
              "ticks": ""
             }
            },
            "type": "scatterpolargl"
           }
          ],
          "scatterternary": [
           {
            "marker": {
             "colorbar": {
              "outlinewidth": 0,
              "ticks": ""
             }
            },
            "type": "scatterternary"
           }
          ],
          "surface": [
           {
            "colorbar": {
             "outlinewidth": 0,
             "ticks": ""
            },
            "colorscale": [
             [
              0,
              "#0d0887"
             ],
             [
              0.1111111111111111,
              "#46039f"
             ],
             [
              0.2222222222222222,
              "#7201a8"
             ],
             [
              0.3333333333333333,
              "#9c179e"
             ],
             [
              0.4444444444444444,
              "#bd3786"
             ],
             [
              0.5555555555555556,
              "#d8576b"
             ],
             [
              0.6666666666666666,
              "#ed7953"
             ],
             [
              0.7777777777777778,
              "#fb9f3a"
             ],
             [
              0.8888888888888888,
              "#fdca26"
             ],
             [
              1,
              "#f0f921"
             ]
            ],
            "type": "surface"
           }
          ],
          "table": [
           {
            "cells": {
             "fill": {
              "color": "#EBF0F8"
             },
             "line": {
              "color": "white"
             }
            },
            "header": {
             "fill": {
              "color": "#C8D4E3"
             },
             "line": {
              "color": "white"
             }
            },
            "type": "table"
           }
          ]
         },
         "layout": {
          "annotationdefaults": {
           "arrowcolor": "#2a3f5f",
           "arrowhead": 0,
           "arrowwidth": 1
          },
          "autotypenumbers": "strict",
          "coloraxis": {
           "colorbar": {
            "outlinewidth": 0,
            "ticks": ""
           }
          },
          "colorscale": {
           "diverging": [
            [
             0,
             "#8e0152"
            ],
            [
             0.1,
             "#c51b7d"
            ],
            [
             0.2,
             "#de77ae"
            ],
            [
             0.3,
             "#f1b6da"
            ],
            [
             0.4,
             "#fde0ef"
            ],
            [
             0.5,
             "#f7f7f7"
            ],
            [
             0.6,
             "#e6f5d0"
            ],
            [
             0.7,
             "#b8e186"
            ],
            [
             0.8,
             "#7fbc41"
            ],
            [
             0.9,
             "#4d9221"
            ],
            [
             1,
             "#276419"
            ]
           ],
           "sequential": [
            [
             0,
             "#0d0887"
            ],
            [
             0.1111111111111111,
             "#46039f"
            ],
            [
             0.2222222222222222,
             "#7201a8"
            ],
            [
             0.3333333333333333,
             "#9c179e"
            ],
            [
             0.4444444444444444,
             "#bd3786"
            ],
            [
             0.5555555555555556,
             "#d8576b"
            ],
            [
             0.6666666666666666,
             "#ed7953"
            ],
            [
             0.7777777777777778,
             "#fb9f3a"
            ],
            [
             0.8888888888888888,
             "#fdca26"
            ],
            [
             1,
             "#f0f921"
            ]
           ],
           "sequentialminus": [
            [
             0,
             "#0d0887"
            ],
            [
             0.1111111111111111,
             "#46039f"
            ],
            [
             0.2222222222222222,
             "#7201a8"
            ],
            [
             0.3333333333333333,
             "#9c179e"
            ],
            [
             0.4444444444444444,
             "#bd3786"
            ],
            [
             0.5555555555555556,
             "#d8576b"
            ],
            [
             0.6666666666666666,
             "#ed7953"
            ],
            [
             0.7777777777777778,
             "#fb9f3a"
            ],
            [
             0.8888888888888888,
             "#fdca26"
            ],
            [
             1,
             "#f0f921"
            ]
           ]
          },
          "colorway": [
           "#636efa",
           "#EF553B",
           "#00cc96",
           "#ab63fa",
           "#FFA15A",
           "#19d3f3",
           "#FF6692",
           "#B6E880",
           "#FF97FF",
           "#FECB52"
          ],
          "font": {
           "color": "#2a3f5f"
          },
          "geo": {
           "bgcolor": "white",
           "lakecolor": "white",
           "landcolor": "white",
           "showlakes": true,
           "showland": true,
           "subunitcolor": "#C8D4E3"
          },
          "hoverlabel": {
           "align": "left"
          },
          "hovermode": "closest",
          "mapbox": {
           "style": "light"
          },
          "paper_bgcolor": "white",
          "plot_bgcolor": "white",
          "polar": {
           "angularaxis": {
            "gridcolor": "#EBF0F8",
            "linecolor": "#EBF0F8",
            "ticks": ""
           },
           "bgcolor": "white",
           "radialaxis": {
            "gridcolor": "#EBF0F8",
            "linecolor": "#EBF0F8",
            "ticks": ""
           }
          },
          "scene": {
           "xaxis": {
            "backgroundcolor": "white",
            "gridcolor": "#DFE8F3",
            "gridwidth": 2,
            "linecolor": "#EBF0F8",
            "showbackground": true,
            "ticks": "",
            "zerolinecolor": "#EBF0F8"
           },
           "yaxis": {
            "backgroundcolor": "white",
            "gridcolor": "#DFE8F3",
            "gridwidth": 2,
            "linecolor": "#EBF0F8",
            "showbackground": true,
            "ticks": "",
            "zerolinecolor": "#EBF0F8"
           },
           "zaxis": {
            "backgroundcolor": "white",
            "gridcolor": "#DFE8F3",
            "gridwidth": 2,
            "linecolor": "#EBF0F8",
            "showbackground": true,
            "ticks": "",
            "zerolinecolor": "#EBF0F8"
           }
          },
          "shapedefaults": {
           "line": {
            "color": "#2a3f5f"
           }
          },
          "ternary": {
           "aaxis": {
            "gridcolor": "#DFE8F3",
            "linecolor": "#A2B1C6",
            "ticks": ""
           },
           "baxis": {
            "gridcolor": "#DFE8F3",
            "linecolor": "#A2B1C6",
            "ticks": ""
           },
           "bgcolor": "white",
           "caxis": {
            "gridcolor": "#DFE8F3",
            "linecolor": "#A2B1C6",
            "ticks": ""
           }
          },
          "title": {
           "x": 0.05
          },
          "xaxis": {
           "automargin": true,
           "gridcolor": "#EBF0F8",
           "linecolor": "#EBF0F8",
           "ticks": "",
           "title": {
            "standoff": 15
           },
           "zerolinecolor": "#EBF0F8",
           "zerolinewidth": 2
          },
          "yaxis": {
           "automargin": true,
           "gridcolor": "#EBF0F8",
           "linecolor": "#EBF0F8",
           "ticks": "",
           "title": {
            "standoff": 15
           },
           "zerolinecolor": "#EBF0F8",
           "zerolinewidth": 2
          }
         }
        },
        "title": {
         "font": {
          "size": 20
         },
         "text": "Temperatura a 2 Metros MERRA-2 (°C)",
         "x": 0.5,
         "xanchor": "center",
         "y": 0.95,
         "yanchor": "top"
        },
        "width": 1000,
        "xaxis": {
         "gridcolor": "LightGray",
         "gridwidth": 1,
         "showgrid": true,
         "title": {
          "text": "Mes"
         }
        },
        "yaxis": {
         "gridcolor": "LightGray",
         "gridwidth": 1,
         "showgrid": true,
         "title": {
          "text": "Temperatura a 2 Metros MERRA-2 (°C)"
         }
        }
       }
      }
     },
     "metadata": {},
     "output_type": "display_data"
    }
   ],
   "source": [
    "import pandas as pd\n",
    "import plotly.graph_objects as go\n",
    "import ipywidgets as widgets\n",
    "from IPython.display import display, clear_output\n",
    "\n",
    "# Cargar datos\n",
    "df = pd.read_csv('./clima-parameters.csv')\n",
    "\n",
    "name_map = {\n",
    "    'PS': 'Presión en Superficie MERRA-2 (kPa)',\n",
    "    'TS': 'Temperatura de la Superficie de la Tierra MERRA-2 (°C)',\n",
    "    'T2M': 'Temperatura a 2 Metros MERRA-2 (°C)',\n",
    "    'QV2M': 'Humedad Específica a 2 Metros MERRA-2 (g/kg)',\n",
    "    'RH2M': 'Humedad Relativa a 2 Metros MERRA-2 (%)',\n",
    "    'WS2M': 'Velocidad del Viento a 2 Metros MERRA-2 (m/s)',\n",
    "    'T2M_MAX': 'Temperatura Máxima a 2 Metros MERRA-2 (°C)',\n",
    "    'T2M_MIN': 'Temperatura Mínima a 2 Metros MERRA-2 (°C)',\n",
    "    'WS2M_MAX': 'Velocidad Máxima del Viento a 2 Metros MERRA-2 (m/s)',\n",
    "    'WS2M_MIN': 'Velocidad Mínima del Viento a 2 Metros MERRA-2 (m/s)',\n",
    "    'T2M_RANGE': 'Rango de Temperatura a 2 Metros MERRA-2 (°C)',\n",
    "    'WS2M_RANGE': 'Rango de Velocidad del Viento a 2 Metros MERRA-2 (m/s)',\n",
    "    'PRECTOTCORR': 'Precipitación Corregida MERRA-2 (mm/día)',\n",
    "    'ALLSKY_SRF_ALB': 'Albedo Superficial Todo el Cielo CERES SYN1deg (adimensional)',\n",
    "    'PRECTOTCORR_SUM': 'Suma de Precipitación Corregida MERRA-2 (mm)',\n",
    "    'ALLSKY_SFC_LW_DWN': 'Irradiancia de Longitud de Onda Larga Todo el Cielo en Superficie CERES SYN1deg (W/m²)',\n",
    "    'ALLSKY_SFC_SW_DNI': 'Irradiancia Directa Normal de Onda Corta Todo el Cielo en Superficie CERES SYN1deg (MJ/m²/día)',\n",
    "    'ALLSKY_SFC_SW_DWN': 'Irradiancia de Onda Corta Todo el Cielo en Superficie CERES SYN1deg (MJ/m²/día)',\n",
    "    'CLRSKY_SFC_SW_DWN': 'Irradiancia de Onda Corta en Cielo Despejado en Superficie CERES SYN1deg (MJ/m²/día)',\n",
    "    'ALLSKY_SFC_SW_DIFF': 'Irradiancia Difusa de Onda Corta Todo el Cielo en Superficie CERES SYN1deg (MJ/m²/día)'\n",
    "}\n",
    "\n",
    "df['PARAMETER'] = df['PARAMETER'].replace(name_map)\n",
    "\n",
    "# Crear diccionario de categorías\n",
    "categorias = {\n",
    "    'Temperatura': [\n",
    "        'Temperatura de la Superficie de la Tierra MERRA-2 (°C)',\n",
    "        'Temperatura a 2 Metros MERRA-2 (°C)',\n",
    "        'Temperatura Máxima a 2 Metros MERRA-2 (°C)',\n",
    "        'Temperatura Mínima a 2 Metros MERRA-2 (°C)',\n",
    "        'Rango de Temperatura a 2 Metros MERRA-2 (°C)'\n",
    "    ],\n",
    "    'Viento': [\n",
    "        'Velocidad del Viento a 2 Metros MERRA-2 (m/s)',\n",
    "        'Velocidad Máxima del Viento a 2 Metros MERRA-2 (m/s)',\n",
    "        'Velocidad Mínima del Viento a 2 Metros MERRA-2 (m/s)',\n",
    "        'Rango de Velocidad del Viento a 2 Metros MERRA-2 (m/s)'\n",
    "    ],\n",
    "    'Humedad': [\n",
    "        'Humedad Específica a 2 Metros MERRA-2 (g/kg)',\n",
    "        'Humedad Relativa a 2 Metros MERRA-2 (%)'\n",
    "    ],\n",
    "    'Precipitación': [\n",
    "        'Precipitación Corregida MERRA-2 (mm/día)',\n",
    "        'Suma de Precipitación Corregida MERRA-2 (mm)'\n",
    "    ],\n",
    "    'Radiación Solar': [\n",
    "        'Irradiancia de Longitud de Onda Larga Todo el Cielo en Superficie CERES SYN1deg (W/m²)',\n",
    "        'Irradiancia Directa Normal de Onda Corta Todo el Cielo en Superficie CERES SYN1deg (MJ/m²/día)',\n",
    "        'Irradiancia de Onda Corta Todo el Cielo en Superficie CERES SYN1deg (MJ/m²/día)',\n",
    "        'Irradiancia de Onda Corta en Cielo Despejado en Superficie CERES SYN1deg (MJ/m²/día)',\n",
    "        'Irradiancia Difusa de Onda Corta Todo el Cielo en Superficie CERES SYN1deg (MJ/m²/día)'\n",
    "    ]\n",
    "}\n",
    "\n",
    "años_disponibles = sorted(df['YEAR'].unique())\n",
    "\n",
    "# Función para actualizar el widget de parámetros basado en la categoría\n",
    "def actualizar_parametros(change):\n",
    "    categoria = categoria_widget.value\n",
    "    parametros_widget.options = categorias[categoria]\n",
    "\n",
    "# main visualization\n",
    "def visualizar_radiacion_solar(change):\n",
    "    # Obtener valores de los widgets\n",
    "    parametro = parametros_widget.value\n",
    "    años = años_widget.value\n",
    "    # Limpiar la salida anterior\n",
    "    clear_output(wait=True)\n",
    "    # Mostrar los widgets de nuevo\n",
    "    display(widget_layout)\n",
    "    \n",
    "    # meses\n",
    "    meses = ['JAN', 'FEB', 'MAR', 'APR', 'MAY', 'JUN', 'JUL', 'AUG', 'SEP', 'OCT', 'NOV', 'DEC']\n",
    "    \n",
    "    # Crear figura\n",
    "    fig = go.Figure()\n",
    "    \n",
    "    # Agregar una línea para cada año seleccionado\n",
    "    for year in años:\n",
    "        data_year = df[(df['YEAR'] == year) & (df['PARAMETER'] == parametro)]\n",
    "        if not data_year.empty:\n",
    "            valores = data_year[meses].values.flatten()\n",
    "            \n",
    "            fig.add_trace(go.Scatter(\n",
    "                x=meses,\n",
    "                y=valores,\n",
    "                mode='lines+markers',\n",
    "                name=f'Año {year}',\n",
    "                hovertemplate=\"Mes: %{x}<br>\" +\n",
    "                            \"Valor: %{y:.2f}<br>\" +\n",
    "                            f\"Año: {year}<br>\" +\n",
    "                            \"<extra></extra>\"\n",
    "            ))\n",
    "    \n",
    "    # Actualizar el diseño del gráfico\n",
    "    fig.update_layout(\n",
    "        title={\n",
    "            'text': f'{parametro}',\n",
    "            'y':0.95,\n",
    "            'x':0.5,\n",
    "            'xanchor': 'center',\n",
    "            'yanchor': 'top',\n",
    "            'font': dict(size=20)\n",
    "        },\n",
    "        xaxis_title=\"Mes\",\n",
    "        yaxis_title=f\"{parametro}\",\n",
    "        hovermode='x unified',\n",
    "        template='plotly_white',\n",
    "        height=600,\n",
    "        width=1000,\n",
    "        legend=dict(\n",
    "            yanchor=\"top\",\n",
    "            y=0.99,\n",
    "            xanchor=\"left\",\n",
    "            x=1.05\n",
    "        ),\n",
    "        showlegend=True\n",
    "    )\n",
    "    \n",
    "    # Agregar grid\n",
    "    fig.update_xaxes(showgrid=True, gridwidth=1, gridcolor='LightGray')\n",
    "    fig.update_yaxes(showgrid=True, gridwidth=1, gridcolor='LightGray')\n",
    "    \n",
    "    # Mostrar el gráfico\n",
    "    display(fig)\n",
    "    \n",
    "# Crear widgets\n",
    "categoria_widget = widgets.Dropdown(\n",
    "    options=list(categorias.keys()),\n",
    "    description='Categoría:',\n",
    "    style={'description_width': 'initial'},\n",
    "    layout={'width': 'auto'}\n",
    ")\n",
    "\n",
    "parametros_widget = widgets.Dropdown(\n",
    "    description='Parámetro:',\n",
    "    style={'description_width': 'initial'},\n",
    "    layout={'width': 'auto'}\n",
    ")\n",
    "\n",
    "años_widget = widgets.SelectMultiple(\n",
    "    options=años_disponibles,\n",
    "    description='Años:',\n",
    "    style={'description_width': 'initial'},\n",
    "    layout={'width': 'auto'}\n",
    ")\n",
    "\n",
    "# Agregar observadores a los widgets\n",
    "categoria_widget.observe(actualizar_parametros, names='value')\n",
    "parametros_widget.observe(visualizar_radiacion_solar, names='value')\n",
    "años_widget.observe(visualizar_radiacion_solar, names='value')\n",
    "\n",
    "# Inicializar el widget de parámetros con la primera categoría\n",
    "actualizar_parametros(None)\n",
    "\n",
    "# Crear layout de widgets\n",
    "widget_layout = widgets.VBox([\n",
    "    widgets.HBox([categoria_widget, parametros_widget, años_widget])\n",
    "])\n",
    "\n",
    "# Mostrar solo los widgets inicialmente\n",
    "display(widget_layout)\n"
   ]
  }
 ],
 "metadata": {
  "kernelspec": {
   "display_name": ".venv",
   "language": "python",
   "name": "python3"
  },
  "language_info": {
   "codemirror_mode": {
    "name": "ipython",
    "version": 3
   },
   "file_extension": ".py",
   "mimetype": "text/x-python",
   "name": "python",
   "nbconvert_exporter": "python",
   "pygments_lexer": "ipython3",
   "version": "3.13.0"
  }
 },
 "nbformat": 4,
 "nbformat_minor": 2
}
